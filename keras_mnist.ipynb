{
 "cells": [
  {
   "cell_type": "code",
   "execution_count": 9,
   "metadata": {},
   "outputs": [],
   "source": [
    "import numpy as np\n",
    "import random\n",
    "from keras.models import Sequential\n",
    "from keras.layers import Dense,Dropout,Flatten,Activation\n",
    "from keras.layers import Conv2D,MaxPooling2D\n",
    "from keras.utils import np_utils\n",
    "from keras.datasets import mnist"
   ]
  },
  {
   "cell_type": "code",
   "execution_count": 10,
   "metadata": {},
   "outputs": [],
   "source": [
    "(x_train,y_train),(x_test,y_test)=mnist.load_data(path='/Users/ccd/Desktop/Projects/005_Keras/mnist.npz')"
   ]
  },
  {
   "cell_type": "code",
   "execution_count": 11,
   "metadata": {},
   "outputs": [
    {
     "data": {
      "text/plain": [
       "(60000, 28, 28)"
      ]
     },
     "execution_count": 11,
     "metadata": {},
     "output_type": "execute_result"
    }
   ],
   "source": [
    "x_train.shape"
   ]
  },
  {
   "cell_type": "code",
   "execution_count": 12,
   "metadata": {},
   "outputs": [],
   "source": [
    "?np_utils.to_categorical"
   ]
  },
  {
   "cell_type": "code",
   "execution_count": 13,
   "metadata": {},
   "outputs": [],
   "source": [
    "from matplotlib import pyplot as plt"
   ]
  },
  {
   "cell_type": "code",
   "execution_count": 14,
   "metadata": {},
   "outputs": [
    {
     "data": {
      "text/plain": [
       "<matplotlib.image.AxesImage at 0x14018d438>"
      ]
     },
     "execution_count": 14,
     "metadata": {},
     "output_type": "execute_result"
    },
    {
     "data": {
      "image/png": "[encoded data removed]",
      "text/plain": [
       "<Figure size 432x288 with 1 Axes>"
      ]
     },
     "metadata": {
      "needs_background": "light"
     },
     "output_type": "display_data"
    }
   ],
   "source": [
    "plt.imshow(x_train[0])"
   ]
  },
  {
   "cell_type": "code",
   "execution_count": 15,
   "metadata": {},
   "outputs": [],
   "source": [
    "def generate_model():\n",
    "    model=Sequential()\n",
    "    \n",
    "    #格式化input\n",
    "    X_train = x_train.reshape(x_train.shape[0],784).astype('float32')\n",
    "    X_test = x_test.reshape(x_test.shape[0],784).astype('float32')\n",
    "\n",
    "    X_train= X_train/ 255\n",
    "    X_test = X_test / 255\n",
    "\n",
    "    # one hot encoding\n",
    "    Y_train = np_utils.to_categorical(y_train)\n",
    "    Y_test  = np_utils.to_categorical(y_test)\n",
    "\n",
    "    num_classes= Y_test.shape[1]\n",
    "    \n",
    "    model.add(Dense(784,input_dim=784,kernel_initializer='normal',activation='relu'))\n",
    "    model.add(Dense(10,kernel_initializer='normal',activation='softmax'))\n",
    "\n",
    "    model.compile(loss='categorical_crossentropy',optimizer='adam',metrics=['accuracy'])\n",
    "    model.fit(X_train,Y_train,validation_data=(X_test,Y_test),epochs=10,batch_size=200,verbose=2)\n",
    "    \n",
    "    return model"
   ]
  },
  {
   "cell_type": "code",
   "execution_count": 16,
   "metadata": {},
   "outputs": [
    {
     "name": "stdout",
     "output_type": "stream",
     "text": [
      "Train on 60000 samples, validate on 10000 samples\n",
      "Epoch 1/10\n",
      " - 7s - loss: 0.2793 - accuracy: 0.9204 - val_loss: 0.1391 - val_accuracy: 0.9594\n",
      "Epoch 2/10\n",
      " - 7s - loss: 0.1096 - accuracy: 0.9680 - val_loss: 0.0946 - val_accuracy: 0.9710\n",
      "Epoch 3/10\n",
      " - 6s - loss: 0.0703 - accuracy: 0.9797 - val_loss: 0.0768 - val_accuracy: 0.9767\n",
      "Epoch 4/10\n",
      " - 6s - loss: 0.0490 - accuracy: 0.9860 - val_loss: 0.0713 - val_accuracy: 0.9783\n",
      "Epoch 5/10\n",
      " - 6s - loss: 0.0351 - accuracy: 0.9902 - val_loss: 0.0619 - val_accuracy: 0.9809\n",
      "Epoch 6/10\n",
      " - 7s - loss: 0.0252 - accuracy: 0.9934 - val_loss: 0.0602 - val_accuracy: 0.9817\n",
      "Epoch 7/10\n",
      " - 6s - loss: 0.0191 - accuracy: 0.9954 - val_loss: 0.0662 - val_accuracy: 0.9796\n",
      "Epoch 8/10\n",
      " - 6s - loss: 0.0143 - accuracy: 0.9968 - val_loss: 0.0568 - val_accuracy: 0.9829\n",
      "Epoch 9/10\n",
      " - 6s - loss: 0.0102 - accuracy: 0.9978 - val_loss: 0.0620 - val_accuracy: 0.9821\n",
      "Epoch 10/10\n",
      " - 7s - loss: 0.0072 - accuracy: 0.9988 - val_loss: 0.0637 - val_accuracy: 0.9810\n"
     ]
    }
   ],
   "source": [
    "my_model= generate_model()"
   ]
  },
  {
   "cell_type": "code",
   "execution_count": 17,
   "metadata": {},
   "outputs": [
    {
     "name": "stderr",
     "output_type": "stream",
     "text": [
      "INFO (theano.gof.compilelock): Refreshing lock /Users/ccd/.theano/compiledir_Darwin-17.7.0-x86_64-i386-64bit-i386-3.6.8-64/lock_dir/lock\n"
     ]
    },
    {
     "name": "stdout",
     "output_type": "stream",
     "text": [
      "Model: \"sequential_2\"\n",
      "_________________________________________________________________\n",
      "Layer (type)                 Output Shape              Param #   \n",
      "=================================================================\n",
      "dense_5 (Dense)              (None, 784)               615440    \n",
      "_________________________________________________________________\n",
      "dense_6 (Dense)              (None, 10)                7850      \n",
      "=================================================================\n",
      "Total params: 623,290\n",
      "Trainable params: 623,290\n",
      "Non-trainable params: 0\n",
      "_________________________________________________________________\n"
     ]
    }
   ],
   "source": [
    "my_model.summary()"
   ]
  },
  {
   "cell_type": "code",
   "execution_count": 18,
   "metadata": {},
   "outputs": [],
   "source": [
    "X_train = x_train.reshape(x_train.shape[0],784).astype('float32')\n",
    "X_test = x_test.reshape(x_test.shape[0],784).astype('float32')\n",
    "\n",
    "X_train= X_train/ 255\n",
    "X_test = X_test / 255\n",
    "\n",
    "# one hot encoding\n",
    "Y_train = np_utils.to_categorical(y_train)\n",
    "Y_test  = np_utils.to_categorical(y_test)\n"
   ]
  },
  {
   "cell_type": "code",
   "execution_count": 19,
   "metadata": {},
   "outputs": [],
   "source": [
    "scores=my_model.evaluate(X_test,Y_test,verbose=0)"
   ]
  },
  {
   "cell_type": "code",
   "execution_count": 20,
   "metadata": {},
   "outputs": [
    {
     "data": {
      "text/plain": [
       "[0.06368658849864005, 0.9810000061988831]"
      ]
     },
     "execution_count": 20,
     "metadata": {},
     "output_type": "execute_result"
    }
   ],
   "source": [
    "scores"
   ]
  },
  {
   "cell_type": "code",
   "execution_count": 21,
   "metadata": {},
   "outputs": [
    {
     "name": "stdout",
     "output_type": "stream",
     "text": [
      "Base Error: 1.90%\n"
     ]
    }
   ],
   "source": [
    "print(\"Base Error: %.2f%%\" %(100-scores[1]*100))"
   ]
  },
  {
   "cell_type": "markdown",
   "metadata": {},
   "source": [
    "#Predict"
   ]
  },
  {
   "cell_type": "code",
   "execution_count": 22,
   "metadata": {},
   "outputs": [],
   "source": [
    "def predict():\n",
    "    index= random.randint(0,X_test.shape[0])\n",
    "    x=x_test[index]\n",
    "    y=y_test[index]\n",
    "    plt.imshow(x,cmap='gray_r')\n",
    "    x.shape =  (1,784)\n",
    "    predict = my_model.predict(x)\n",
    "    predict = np.argmax(predict)\n",
    "    print (\"index is %s, original  is %s , predict is %s\" %(index,y,predict))"
   ]
  },
  {
   "cell_type": "code",
   "execution_count": 23,
   "metadata": {},
   "outputs": [],
   "source": [
    "#Predict case"
   ]
  },
  {
   "cell_type": "code",
   "execution_count": 45,
   "metadata": {},
   "outputs": [
    {
     "name": "stdout",
     "output_type": "stream",
     "text": [
      "index is 2607, original  is 7 , predict is 1\n"
     ]
    },
    {
     "data": {
      "image/png": "[encoded data removed]",
      "text/plain": [
       "<Figure size 432x288 with 1 Axes>"
      ]
     },
     "metadata": {
      "needs_background": "light"
     },
     "output_type": "display_data"
    }
   ],
   "source": [
    "predict()"
   ]
  },
  {
   "cell_type": "code",
   "execution_count": null,
   "metadata": {},
   "outputs": [],
   "source": []
  },
  {
   "cell_type": "code",
   "execution_count": null,
   "metadata": {},
   "outputs": [],
   "source": []
  }
 ],
 "metadata": {
  "kernelspec": {
   "display_name": "Python 3",
   "language": "python",
   "name": "python3"
  },
  "language_info": {
   "codemirror_mode": {
    "name": "ipython",
    "version": 3
   },
   "file_extension": ".py",
   "mimetype": "text/x-python",
   "name": "python",
   "nbconvert_exporter": "python",
   "pygments_lexer": "ipython3",
   "version": "3.6.8"
  }
 },
 "nbformat": 4,
 "nbformat_minor": 2
}
